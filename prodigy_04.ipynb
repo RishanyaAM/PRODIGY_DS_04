{
 "cells": [
  {
   "cell_type": "code",
   "execution_count": null,
   "id": "552eedad-36d4-460b-bbed-bd0c94583600",
   "metadata": {},
   "outputs": [],
   "source": [
    "import pandas as pd\n",
    "import matplotlib.pyplot as plt\n",
    "import numpy as np\n",
    "twitts_train = pd.read_csv(\"twitter_training.csv\")\n",
    "twitts_valid = pd.read_csv(\"twitter_validation.csv\")\n",
    "# Naming each column\n",
    "column_name=['TweetID','Entity','Sentiment','Tweet_Content']\n",
    "twitts_train.columns=column_name\n",
    "twitts_valid.columns=column_name\n",
    "# Combining 2 dataframes to 1 dataframe\n",
    "twitts=pd.concat([twitts_train,twitts_valid],ignore_index=False)\n",
    "twitts.head()\n",
    "twitts.columns.tolist()\n",
    "twitts.info()\n",
    "twitts.isnull().sum()\n",
    "twitts.duplicated().sum()\n",
    "twitts.dropna(inplace=True)\n",
    "twitts.drop_duplicates(inplace=True)\n",
    "print(twitts.isnull().sum())\n",
    "print(\"Duplicate Values:\",twitts.duplicated().sum())\n",
    "twitts.drop(columns=['TweetID','Tweet_Content'],inplace=True)\n",
    "twitts.head()\n",
    "twitts.info()\n",
    "entity_content=twitts['Entity'].value_counts()\n",
    "entity_content.plot(kind='pie', autopct='%1.1f%%', figsize=(10, 12))\n",
    "plt.title('Distribution of Entities')\n",
    "plt.show()\n",
    "sentiment_content=twitts['Sentiment'].value_counts()\n",
    "color=plt.get_cmap('viridis')\n",
    "colors = [color(i) for i in np.linspace(0, 1, len(sentiment_content))]\n",
    "sentiment_content.plot(kind='bar',color=colors,grid=True)\n",
    "reactions_entities = pd.crosstab(twitts['Entity'],twitts['Sentiment'])\n",
    "reactions_entities.plot(kind='bar', figsize=(16, 6),grid=True)"
   ]
  }
 ],
 "metadata": {
  "kernelspec": {
   "display_name": "Python 3 (ipykernel)",
   "language": "python",
   "name": "python3"
  },
  "language_info": {
   "codemirror_mode": {
    "name": "ipython",
    "version": 3
   },
   "file_extension": ".py",
   "mimetype": "text/x-python",
   "name": "python",
   "nbconvert_exporter": "python",
   "pygments_lexer": "ipython3",
   "version": "3.12.4"
  }
 },
 "nbformat": 4,
 "nbformat_minor": 5
}
